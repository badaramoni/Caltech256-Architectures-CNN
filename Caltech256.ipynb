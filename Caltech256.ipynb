{
  "nbformat": 4,
  "nbformat_minor": 0,
  "metadata": {
    "colab": {
      "provenance": [],
      "authorship_tag": "ABX9TyM7/uADcTUA3bzJgwDGRgVm",
      "include_colab_link": true
    },
    "kernelspec": {
      "name": "python3",
      "display_name": "Python 3"
    },
    "language_info": {
      "name": "python"
    }
  },
  "cells": [
    {
      "cell_type": "markdown",
      "metadata": {
        "id": "view-in-github",
        "colab_type": "text"
      },
      "source": [
        "<a href=\"https://colab.research.google.com/github/badaramoni/Caltech256-Architectures-CNN/blob/main/Caltech256.ipynb\" target=\"_parent\"><img src=\"https://colab.research.google.com/assets/colab-badge.svg\" alt=\"Open In Colab\"/></a>"
      ]
    },
    {
      "cell_type": "code",
      "execution_count": 16,
      "metadata": {
        "colab": {
          "base_uri": "https://localhost:8080/",
          "height": 35
        },
        "id": "Ioknmv_DPbKY",
        "outputId": "1e8bb759-e483-4d21-fc08-671580133d59"
      },
      "outputs": [
        {
          "output_type": "execute_result",
          "data": {
            "text/plain": [
              "'2.2.1+cu121'"
            ],
            "application/vnd.google.colaboratory.intrinsic+json": {
              "type": "string"
            }
          },
          "metadata": {},
          "execution_count": 16
        }
      ],
      "source": [
        "import torch\n",
        "import torchvision\n",
        "import torchvision.transforms as transforms\n",
        "from torchvision.datasets import ImageFolder\n",
        "from torch.utils.data import DataLoader,random_split\n",
        "import torch.nn as nn\n",
        "import torch.nn.functional as F\n",
        "import torch.optim as optim\n",
        "torch.__version__"
      ]
    },
    {
      "cell_type": "code",
      "source": [
        "transform = transforms.Compose([\n",
        "    transforms.Resize((128, 128)),  # Resize images\n",
        "    transforms.ToTensor(),          # Convert to tensor\n",
        "    transforms.Normalize((0.5, 0.5, 0.5), (0.5, 0.5, 0.5))  # Normalize\n",
        "])\n"
      ],
      "metadata": {
        "id": "E8mrXwRUSw5X"
      },
      "execution_count": 17,
      "outputs": []
    },
    {
      "cell_type": "code",
      "source": [
        "!tar -xf '/content/256_ObjectCategories (1).tar' -C '/content/'\n"
      ],
      "metadata": {
        "id": "HLlCiIcxUomF"
      },
      "execution_count": 19,
      "outputs": []
    },
    {
      "cell_type": "code",
      "source": [
        "!ls '/content/256_ObjectCategories'\n",
        "\n"
      ],
      "metadata": {
        "colab": {
          "base_uri": "https://localhost:8080/"
        },
        "id": "SFPm_1cJudSI",
        "outputId": "cb645c74-041f-43ff-a610-56044750d4b9"
      },
      "execution_count": 20,
      "outputs": [
        {
          "output_type": "stream",
          "name": "stdout",
          "text": [
            "001.ak47\t\t 087.goldfish\t      173.rifle\n",
            "002.american-flag\t 088.golf-ball\t      174.rotary-phone\n",
            "003.backpack\t\t 089.goose\t      175.roulette-wheel\n",
            "004.baseball-bat\t 090.gorilla\t      176.saddle\n",
            "005.baseball-glove\t 091.grand-piano-101  177.saturn\n",
            "006.basketball-hoop\t 092.grapes\t      178.school-bus\n",
            "007.bat\t\t\t 093.grasshopper      179.scorpion-101\n",
            "008.bathtub\t\t 094.guitar-pick      180.screwdriver\n",
            "009.bear\t\t 095.hamburger\t      181.segway\n",
            "010.beer-mug\t\t 096.hammock\t      182.self-propelled-lawn-mower\n",
            "011.billiards\t\t 097.harmonica\t      183.sextant\n",
            "012.binoculars\t\t 098.harp\t      184.sheet-music\n",
            "013.birdbath\t\t 099.harpsichord      185.skateboard\n",
            "014.blimp\t\t 100.hawksbill-101    186.skunk\n",
            "015.bonsai-101\t\t 101.head-phones      187.skyscraper\n",
            "016.boom-box\t\t 102.helicopter-101   188.smokestack\n",
            "017.bowling-ball\t 103.hibiscus\t      189.snail\n",
            "018.bowling-pin\t\t 104.homer-simpson    190.snake\n",
            "019.boxing-glove\t 105.horse\t      191.sneaker\n",
            "020.brain-101\t\t 106.horseshoe-crab   192.snowmobile\n",
            "021.breadmaker\t\t 107.hot-air-balloon  193.soccer-ball\n",
            "022.buddha-101\t\t 108.hot-dog\t      194.socks\n",
            "023.bulldozer\t\t 109.hot-tub\t      195.soda-can\n",
            "024.butterfly\t\t 110.hourglass\t      196.spaghetti\n",
            "025.cactus\t\t 111.house-fly\t      197.speed-boat\n",
            "026.cake\t\t 112.human-skeleton   198.spider\n",
            "027.calculator\t\t 113.hummingbird      199.spoon\n",
            "028.camel\t\t 114.ibis-101\t      200.stained-glass\n",
            "029.cannon\t\t 115.ice-cream-cone   201.starfish-101\n",
            "030.canoe\t\t 116.iguana\t      202.steering-wheel\n",
            "031.car-tire\t\t 117.ipod\t      203.stirrups\n",
            "032.cartman\t\t 118.iris\t      204.sunflower-101\n",
            "033.cd\t\t\t 119.jesus-christ     205.superman\n",
            "034.centipede\t\t 120.joy-stick\t      206.sushi\n",
            "035.cereal-box\t\t 121.kangaroo-101     207.swan\n",
            "036.chandelier-101\t 122.kayak\t      208.swiss-army-knife\n",
            "037.chess-board\t\t 123.ketch-101\t      209.sword\n",
            "038.chimp\t\t 124.killer-whale     210.syringe\n",
            "039.chopsticks\t\t 125.knife\t      211.tambourine\n",
            "040.cockroach\t\t 126.ladder\t      212.teapot\n",
            "041.coffee-mug\t\t 127.laptop-101       213.teddy-bear\n",
            "042.coffin\t\t 128.lathe\t      214.teepee\n",
            "043.coin\t\t 129.leopards-101     215.telephone-box\n",
            "044.comet\t\t 130.license-plate    216.tennis-ball\n",
            "045.computer-keyboard\t 131.lightbulb\t      217.tennis-court\n",
            "046.computer-monitor\t 132.light-house      218.tennis-racket\n",
            "047.computer-mouse\t 133.lightning\t      219.theodolite\n",
            "048.conch\t\t 134.llama-101\t      220.toaster\n",
            "049.cormorant\t\t 135.mailbox\t      221.tomato\n",
            "050.covered-wagon\t 136.mandolin\t      222.tombstone\n",
            "051.cowboy-hat\t\t 137.mars\t      223.top-hat\n",
            "052.crab-101\t\t 138.mattress\t      224.touring-bike\n",
            "053.desk-globe\t\t 139.megaphone\t      225.tower-pisa\n",
            "054.diamond-ring\t 140.menorah-101      226.traffic-light\n",
            "055.dice\t\t 141.microscope       227.treadmill\n",
            "056.dog\t\t\t 142.microwave\t      228.triceratops\n",
            "057.dolphin-101\t\t 143.minaret\t      229.tricycle\n",
            "058.doorknob\t\t 144.minotaur\t      230.trilobite-101\n",
            "059.drinking-straw\t 145.motorbikes-101   231.tripod\n",
            "060.duck\t\t 146.mountain-bike    232.t-shirt\n",
            "061.dumb-bell\t\t 147.mushroom\t      233.tuning-fork\n",
            "062.eiffel-tower\t 148.mussels\t      234.tweezer\n",
            "063.electric-guitar-101  149.necktie\t      235.umbrella-101\n",
            "064.elephant-101\t 150.octopus\t      236.unicorn\n",
            "065.elk\t\t\t 151.ostrich\t      237.vcr\n",
            "066.ewer-101\t\t 152.owl\t      238.video-projector\n",
            "067.eyeglasses\t\t 153.palm-pilot       239.washing-machine\n",
            "068.fern\t\t 154.palm-tree\t      240.watch-101\n",
            "069.fighter-jet\t\t 155.paperclip\t      241.waterfall\n",
            "070.fire-extinguisher\t 156.paper-shredder   242.watermelon\n",
            "071.fire-hydrant\t 157.pci-card\t      243.welding-mask\n",
            "072.fire-truck\t\t 158.penguin\t      244.wheelbarrow\n",
            "073.fireworks\t\t 159.people\t      245.windmill\n",
            "074.flashlight\t\t 160.pez-dispenser    246.wine-bottle\n",
            "075.floppy-disk\t\t 161.photocopier      247.xylophone\n",
            "076.football-helmet\t 162.picnic-table     248.yarmulke\n",
            "077.french-horn\t\t 163.playing-card     249.yo-yo\n",
            "078.fried-egg\t\t 164.porcupine\t      250.zebra\n",
            "079.frisbee\t\t 165.pram\t      251.airplanes-101\n",
            "080.frog\t\t 166.praying-mantis   252.car-side-101\n",
            "081.frying-pan\t\t 167.pyramid\t      253.faces-easy-101\n",
            "082.galaxy\t\t 168.raccoon\t      254.greyhound\n",
            "083.gas-pump\t\t 169.radio-telescope  255.tennis-shoes\n",
            "084.giraffe\t\t 170.rainbow\t      256.toad\n",
            "085.goat\t\t 171.refrigerator     257.clutter\n",
            "086.golden-gate-bridge\t 172.revolver-101\n"
          ]
        }
      ]
    },
    {
      "cell_type": "code",
      "source": [
        "dataset = ImageFolder('/content/256_ObjectCategories/', transform=transform)\n"
      ],
      "metadata": {
        "id": "qfTcOj4huuA8"
      },
      "execution_count": 21,
      "outputs": []
    },
    {
      "cell_type": "code",
      "source": [
        "unique_labels = set()\n",
        "for _, label in dataset:\n",
        "    unique_labels.add(label)\n",
        "print(\"Unique labels in dataset:\", unique_labels)\n"
      ],
      "metadata": {
        "colab": {
          "base_uri": "https://localhost:8080/"
        },
        "id": "SZNquW3VwSJu",
        "outputId": "79abd2b4-fff4-4d29-c3d0-c2003308a675"
      },
      "execution_count": 41,
      "outputs": [
        {
          "output_type": "stream",
          "name": "stdout",
          "text": [
            "Unique labels in dataset: {0, 1, 2, 3, 4, 5, 6, 7, 8, 9, 10, 11, 12, 13, 14, 15, 16, 17, 18, 19, 20, 21, 22, 23, 24, 25, 26, 27, 28, 29, 30, 31, 32, 33, 34, 35, 36, 37, 38, 39, 40, 41, 42, 43, 44, 45, 46, 47, 48, 49, 50, 51, 52, 53, 54, 55, 56, 57, 58, 59, 60, 61, 62, 63, 64, 65, 66, 67, 68, 69, 70, 71, 72, 73, 74, 75, 76, 77, 78, 79, 80, 81, 82, 83, 84, 85, 86, 87, 88, 89, 90, 91, 92, 93, 94, 95, 96, 97, 98, 99, 100, 101, 102, 103, 104, 105, 106, 107, 108, 109, 110, 111, 112, 113, 114, 115, 116, 117, 118, 119, 120, 121, 122, 123, 124, 125, 126, 127, 128, 129, 130, 131, 132, 133, 134, 135, 136, 137, 138, 139, 140, 141, 142, 143, 144, 145, 146, 147, 148, 149, 150, 151, 152, 153, 154, 155, 156, 157, 158, 159, 160, 161, 162, 163, 164, 165, 166, 167, 168, 169, 170, 171, 172, 173, 174, 175, 176, 177, 178, 179, 180, 181, 182, 183, 184, 185, 186, 187, 188, 189, 190, 191, 192, 193, 194, 195, 196, 197, 198, 199, 200, 201, 202, 203, 204, 205, 206, 207, 208, 209, 210, 211, 212, 213, 214, 215, 216, 217, 218, 219, 220, 221, 222, 223, 224, 225, 226, 227, 228, 229, 230, 231, 232, 233, 234, 235, 236, 237, 238, 239, 240, 241, 242, 243, 244, 245, 246, 247, 248, 249, 250, 251, 252, 253, 254, 255, 256}\n"
          ]
        }
      ]
    },
    {
      "cell_type": "code",
      "source": [
        "train_size = int(0.8 * len(dataset))\n",
        "test_size = len(dataset) - train_size\n",
        "train_dataset, test_dataset = random_split(dataset, [train_size, test_size])\n"
      ],
      "metadata": {
        "id": "XmmdqY-fuyBo"
      },
      "execution_count": 42,
      "outputs": []
    },
    {
      "cell_type": "code",
      "source": [
        "train_size,test_size"
      ],
      "metadata": {
        "colab": {
          "base_uri": "https://localhost:8080/"
        },
        "id": "TcpXkC_Su3-h",
        "outputId": "5d119142-2e47-4daa-c116-d77ed9e3ffdd"
      },
      "execution_count": 43,
      "outputs": [
        {
          "output_type": "execute_result",
          "data": {
            "text/plain": [
              "(24485, 6122)"
            ]
          },
          "metadata": {},
          "execution_count": 43
        }
      ]
    },
    {
      "cell_type": "code",
      "source": [
        "train_loader = DataLoader(train_dataset, batch_size=32, shuffle=True)\n",
        "test_loader = DataLoader(test_dataset, batch_size=32)"
      ],
      "metadata": {
        "id": "OCrImOqFu8ng"
      },
      "execution_count": 36,
      "outputs": []
    },
    {
      "cell_type": "code",
      "source": [
        "#Model"
      ],
      "metadata": {
        "id": "wNM-ZpDuvSda"
      },
      "execution_count": 47,
      "outputs": []
    },
    {
      "cell_type": "code",
      "source": [],
      "metadata": {
        "id": "-8QJcmVuyPvP"
      },
      "execution_count": null,
      "outputs": []
    }
  ]
}